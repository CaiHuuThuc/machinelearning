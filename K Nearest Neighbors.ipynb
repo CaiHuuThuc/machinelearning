{
 "cells": [
  {
   "cell_type": "code",
   "execution_count": 1,
   "metadata": {},
   "outputs": [],
   "source": [
    "import csv\n",
    "import math"
   ]
  },
  {
   "cell_type": "markdown",
   "metadata": {},
   "source": [
    "Hàm load dataset<br>\n",
    "Tham số:<br>\n",
    " + filename: tên file chứa dataset\n",
    " + m: số lượng mẫu trong tập huấn luyện\n",
    " \n",
    "Giả sử: training set và test set đều được chứa trong filename, mỗi dòng là mỗi điểm dữ liệu.<br>\n",
    "Giá trị đầu tiên của mỗi dòng là lớp của điểm dữ liệu đó.<br>\n",
    "m dòng đầu tiên là training set<br>\n",
    "Từ dòng thứ m trở đi là test set<br>\n",
    "Kết quả trả về:<br>\n",
    "Nếu điểm dữ liệu huấn luận < số điểm dữ liệu trong file => trả về None<br>\n",
    "Nếu việc đọc thành công sẽ trả về tuple gồm:\n",
    "+ X_train: dữ liệu điểm huấn luyện\n",
    "+ Y_train: nhãn của điểm huấn luyện\n",
    "+ X_test: dữ liệu điểm kiểm thử\n",
    "+ Y_test: nhãn điểm kiểm thử"
   ]
  },
  {
   "cell_type": "code",
   "execution_count": 2,
   "metadata": {},
   "outputs": [],
   "source": [
    "def loadDataset(filename, m):\n",
    "    X_train = []\n",
    "    Y_train = []\n",
    "    X_test = []\n",
    "    Y_test = []\n",
    "    with open(filename, 'r') as csvfile:\n",
    "        lines = csv.reader(csvfile)\n",
    "        dataset = list(lines)\n",
    "        if (len(dataset) - m <= 0):\n",
    "            return None, None, None, None\n",
    "        for i in range(m):\n",
    "            X_train.append(dataset[i][1:])\n",
    "            Y_train.append([dataset[i][0]])\n",
    "        for i in range(len(dataset) - m):\n",
    "            X_test.append(dataset[i + m][1:])\n",
    "            Y_test.append([dataset[i + m][0]])\n",
    "\n",
    "    return (X_train, Y_train, X_test, Y_test)"
   ]
  },
  {
   "cell_type": "markdown",
   "metadata": {},
   "source": [
    "Hàm tính khoảng cách 2 điểm dữ liệu<br>\n",
    "Tham số:\n",
    "+ instance1: điểm dữ liệu 1\n",
    "+ instance2: điểm dữ liệu 2\n",
    "+ n: số thuộc tính (số chiều dữ liệu)\n",
    "    \n",
    "Kết quả trả về:<br>\n",
    "khoảng cách Euclide của hai điểm dữ liệu"
   ]
  },
  {
   "cell_type": "code",
   "execution_count": 3,
   "metadata": {},
   "outputs": [],
   "source": [
    "def euclideanDistance(instance1, instance2, n):\n",
    "    distance = 0\n",
    "    for x in range(n):\n",
    "        distance += pow((int(instance1[x]) - int(instance2[x])), 2)\n",
    "    return math.sqrt(distance)"
   ]
  },
  {
   "cell_type": "markdown",
   "metadata": {},
   "source": [
    "Hàm lấy k láng giềng của điểm dữ liệu test\n",
    "Tham số:\n",
    "+ X_train: tập training\n",
    "+ Y_train: nhãn của tập training\n",
    "+ test_instance: điểm dữ liệu muốn gắn nhãn đang xét\n",
    "+ k: số láng giềng\n",
    "+ m: số điểm dữ liệu training\n",
    "+ n: số chiều dữ liệu\n",
    "\n",
    "Kết quả trả về:\n",
    "một list với mỗi giá trị của nó là một tuple, mỗi tuple bao gồm \n",
    "- điểm dữ liệu\n",
    "- nhãn của điểm dữ liệu\n",
    "- khoảng cách từ điểm test đang xét tới điểm dữ liệu"
   ]
  },
  {
   "cell_type": "code",
   "execution_count": 4,
   "metadata": {},
   "outputs": [],
   "source": [
    "def getNeighbors(X_train, Y_train, test_instance, k, m, n):\n",
    "    distances = []\n",
    "    \n",
    "    for x in range(m):\n",
    "        dist = euclideanDistance(test_instance, X_train[x], n)\n",
    "        distances.append((X_train[x], Y_train[x], dist))\n",
    "    distances.sort(key=lambda x: x[2]) #sắp xếp theo khoảng cách tăng dần, tức theo phần thử thứ 2, tính từ 0\n",
    "    neighbors = []\n",
    "    for x in range(k):\n",
    "        neighbors.append(distances[x])\n",
    "    return neighbors"
   ]
  },
  {
   "cell_type": "markdown",
   "metadata": {},
   "source": [
    "Hàm lấy nhãn của dữ liệu<br>\n",
    "Tham số: neighbors: một list, mỗi giá trị của nó là một tuple, mỗi tuple bao gồm \n",
    "- điểm dữ liệu\n",
    "- nhãn của điểm dữ liệu\n",
    "- khoảng cách từ điểm test đang xét tới điểm dữ liệu\n",
    "\n",
    "Kết quả trả về: Nhãn của dữ liệu"
   ]
  },
  {
   "cell_type": "code",
   "execution_count": 5,
   "metadata": {},
   "outputs": [],
   "source": [
    "def getResponse(neighbors):\n",
    "    classVotes = {}\n",
    "    for x in range(len(neighbors)):\n",
    "        #neighbors là một list, tại một phần tử bất kì \n",
    "        #thì nhãn của dữ liệu (được lưu dưới dạng vector cột, theo numpy), nằm ở vị trí thứ 2 (đếm từ 1)\n",
    "        response = neighbors[x][1][0]  \n",
    "\n",
    "        #thực hiện cho các điểm dữ liệu bỏ phiếu quyết định xem điểm test thuộc về lớp nào\n",
    "        if response in classVotes:\n",
    "            classVotes[response] += 1\n",
    "        else:\n",
    "            classVotes[response] = 1\n",
    "\n",
    "    #sắp xếp theo khoảng cách, tức theo phần thử thứ 1 (đếm từ 1), reverse = True tức là sắp xếp giảm dần\n",
    "    sortedVotes = sorted(classVotes, key=lambda x: x[0], reverse=True) \n",
    "    return sortedVotes[0][0] #trả về nhãn nhiều điểm bỏ phiếu nhất"
   ]
  },
  {
   "cell_type": "markdown",
   "metadata": {},
   "source": [
    "Hàm tính độ chính xác việc dự đoán nhãn<br>\n",
    "Tham số:\n",
    "+ Y_test: nhãn thật sự của các điểm test, được lưu dưới dạng vector cột, theo numpy\n",
    "+ Y_pred: nhãn dự đoán của các điểm test, được lưu dưới dạng vector cột, theo numpy\n",
    "\n",
    "Kết quả trả về: Tỉ lệ số các điểm dự đoán đúng / tổng số điểm dự đoán"
   ]
  },
  {
   "cell_type": "code",
   "execution_count": 16,
   "metadata": {},
   "outputs": [],
   "source": [
    "def getAccuracy(Y_test, Y_pred):\n",
    "    correct = 0\n",
    "    for x in range(len(Y_test)):\n",
    "        if Y_test[x][0] == Y_pred[x][0]:\n",
    "            correct += 1\n",
    "    return (correct/float(len(Y_test))) * 100.0"
   ]
  },
  {
   "cell_type": "code",
   "execution_count": 17,
   "metadata": {},
   "outputs": [
    {
     "name": "stdout",
     "output_type": "stream",
     "text": [
      "Train set: 8124\n",
      "Test set: 81\n",
      "> predicted='0', actual='0'\n",
      "> predicted='0', actual='0'\n",
      "> predicted='0', actual='0'\n",
      "> predicted='0', actual='0'\n",
      "> predicted='0', actual='0'\n",
      "> predicted='0', actual='0'\n",
      "> predicted='0', actual='0'\n",
      "> predicted='0', actual='0'\n",
      "> predicted='0', actual='0'\n",
      "> predicted='0', actual='0'\n",
      "> predicted='0', actual='0'\n",
      "> predicted='0', actual='0'\n",
      "> predicted='1', actual='1'\n",
      "> predicted='0', actual='0'\n",
      "> predicted='0', actual='0'\n",
      "> predicted='0', actual='0'\n",
      "> predicted='0', actual='0'\n",
      "> predicted='0', actual='0'\n",
      "> predicted='0', actual='0'\n",
      "> predicted='0', actual='0'\n",
      "> predicted='0', actual='0'\n",
      "> predicted='0', actual='0'\n",
      "> predicted='0', actual='0'\n",
      "> predicted='0', actual='0'\n",
      "> predicted='0', actual='0'\n",
      "> predicted='0', actual='0'\n",
      "> predicted='0', actual='0'\n",
      "> predicted='0', actual='0'\n",
      "> predicted='0', actual='0'\n",
      "> predicted='0', actual='0'\n",
      "> predicted='0', actual='0'\n",
      "> predicted='0', actual='0'\n",
      "> predicted='0', actual='0'\n",
      "> predicted='0', actual='0'\n",
      "> predicted='0', actual='0'\n",
      "> predicted='0', actual='0'\n",
      "> predicted='0', actual='0'\n",
      "> predicted='0', actual='0'\n",
      "> predicted='0', actual='0'\n",
      "> predicted='0', actual='0'\n",
      "> predicted='0', actual='0'\n",
      "> predicted='0', actual='0'\n",
      "> predicted='0', actual='0'\n",
      "> predicted='0', actual='0'\n",
      "> predicted='0', actual='0'\n",
      "> predicted='0', actual='0'\n",
      "> predicted='0', actual='0'\n",
      "> predicted='0', actual='0'\n",
      "> predicted='0', actual='0'\n",
      "> predicted='0', actual='0'\n",
      "> predicted='0', actual='0'\n",
      "> predicted='0', actual='0'\n",
      "> predicted='0', actual='0'\n",
      "> predicted='0', actual='0'\n",
      "> predicted='0', actual='0'\n",
      "> predicted='0', actual='0'\n",
      "> predicted='0', actual='0'\n",
      "> predicted='0', actual='0'\n",
      "> predicted='0', actual='0'\n",
      "> predicted='0', actual='0'\n",
      "> predicted='0', actual='0'\n",
      "> predicted='0', actual='0'\n",
      "> predicted='0', actual='0'\n",
      "> predicted='0', actual='0'\n",
      "> predicted='1', actual='1'\n",
      "> predicted='0', actual='0'\n",
      "> predicted='0', actual='0'\n",
      "> predicted='0', actual='0'\n",
      "> predicted='0', actual='0'\n",
      "> predicted='0', actual='0'\n",
      "> predicted='0', actual='0'\n",
      "> predicted='0', actual='0'\n",
      "> predicted='0', actual='0'\n",
      "> predicted='0', actual='0'\n",
      "> predicted='0', actual='0'\n",
      "> predicted='0', actual='0'\n",
      "> predicted='0', actual='0'\n",
      "> predicted='0', actual='0'\n",
      "> predicted='0', actual='0'\n",
      "> predicted='0', actual='0'\n",
      "> predicted='0', actual='0'\n",
      "Accuracy: 100.0%\n"
     ]
    }
   ],
   "source": [
    "filename = 'some.csv'\n",
    "m = 8124\n",
    "n = 8\n",
    "k = 7\n",
    "X_train, Y_train, X_test, Y_test = loadDataset(filename, m)\n",
    "if X_train is not None:\n",
    "    print ('Train set: ' + repr(len(X_train)))\n",
    "    print ('Test set: ' + repr(len(X_test)))\n",
    "\n",
    "#     print(Y_test.shape)\n",
    "    Y_pred = []\n",
    "    for x in range(len(X_test)):\n",
    "        neighbors = getNeighbors(X_train, Y_train, X_test[x], k, m, n)\n",
    "        result = getResponse(neighbors)\n",
    "        Y_pred.append([result])\n",
    "        print('> predicted=' + repr(result) + ', actual=' + repr(Y_test[x][0]))\n",
    "    accuracy = getAccuracy(Y_test, Y_pred)\n",
    "    print('Accuracy: ' + repr(accuracy) + '%')\n",
    "#     print(Y_pred)\n",
    "#     print(Y_test)"
   ]
  },
  {
   "cell_type": "code",
   "execution_count": null,
   "metadata": {},
   "outputs": [],
   "source": []
  }
 ],
 "metadata": {
  "kernelspec": {
   "display_name": "Python 3",
   "language": "python",
   "name": "python3"
  },
  "language_info": {
   "codemirror_mode": {
    "name": "ipython",
    "version": 3
   },
   "file_extension": ".py",
   "mimetype": "text/x-python",
   "name": "python",
   "nbconvert_exporter": "python",
   "pygments_lexer": "ipython3",
   "version": "3.6.4"
  }
 },
 "nbformat": 4,
 "nbformat_minor": 2
}
